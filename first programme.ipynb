{
 "cells": [
  {
   "cell_type": "code",
   "execution_count": 36,
   "id": "565d7f26",
   "metadata": {},
   "outputs": [
    {
     "name": "stdout",
     "output_type": "stream",
     "text": [
      "enter the value of n47\n",
      "excellent\n"
     ]
    }
   ],
   "source": [
    "n=int(input(\"enter the value of n\"))\n",
    "if n<22:\n",
    "    print(\"wow\")\n",
    "elif n<11:\n",
    "    print(\"great\")\n",
    "    pass\n",
    "else:\n",
    "    n<=48\n",
    "    print(\"excellent\")\n",
    "    "
   ]
  },
  {
   "cell_type": "code",
   "execution_count": 35,
   "id": "0df8c266",
   "metadata": {},
   "outputs": [
    {
     "name": "stdout",
     "output_type": "stream",
     "text": [
      "enter your salary1000\n",
      "thika muchkndu savings maadu\n"
     ]
    }
   ],
   "source": [
    "salary=int(input(\"enter your salary\"))\n",
    "if salary>5000:\n",
    "    print(\"i will buy a car\")\n",
    "elif salary >3000:\n",
    "        print(\"i will buy a bike\")\n",
    "elif salary>2000:\n",
    "    print(\"i will buy a bicycle\")\n",
    "else:\n",
    "    print(\"thika muchkndu savings maadu\")\n",
    "        "
   ]
  },
  {
   "cell_type": "code",
   "execution_count": null,
   "id": "dde8e8c7",
   "metadata": {},
   "outputs": [],
   "source": []
  }
 ],
 "metadata": {
  "kernelspec": {
   "display_name": "Python 3 (ipykernel)",
   "language": "python",
   "name": "python3"
  },
  "language_info": {
   "codemirror_mode": {
    "name": "ipython",
    "version": 3
   },
   "file_extension": ".py",
   "mimetype": "text/x-python",
   "name": "python",
   "nbconvert_exporter": "python",
   "pygments_lexer": "ipython3",
   "version": "3.9.7"
  }
 },
 "nbformat": 4,
 "nbformat_minor": 5
}
