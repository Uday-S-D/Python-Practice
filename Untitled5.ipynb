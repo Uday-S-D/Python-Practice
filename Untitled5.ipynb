{
 "cells": [
  {
   "cell_type": "code",
   "execution_count": 10,
   "id": "41488084",
   "metadata": {},
   "outputs": [
    {
     "name": "stdout",
     "output_type": "stream",
     "text": [
      "enter the value of n8\n",
      "* \n",
      "* * \n",
      "* * * \n",
      "* * * * \n",
      "* * * * * \n",
      "* * * * * * \n",
      "* * * * * * * \n",
      "* * * * * * * * \n"
     ]
    }
   ],
   "source": [
    "n=int(input(\"enter the value of n\"))\n",
    "\n",
    "for i in  range(0,n):\n",
    "    print(\"*\",end=\" \")\n",
    "    for j in range(1,i+1):\n",
    "        print(\"*\",end=\" \")\n",
    "    print()"
   ]
  },
  {
   "cell_type": "code",
   "execution_count": 12,
   "id": "eb320717",
   "metadata": {},
   "outputs": [
    {
     "name": "stdout",
     "output_type": "stream",
     "text": [
      "\n",
      "\n",
      "* \n",
      "* * \n",
      "* * * \n",
      "* * * * "
     ]
    }
   ],
   "source": [
    "for i in range(0,5):\n",
    "    print()\n",
    "    for j in range(1,i+1):\n",
    "        print(\"*\",end=\" \")"
   ]
  },
  {
   "cell_type": "code",
   "execution_count": 11,
   "id": "9e0527a5",
   "metadata": {},
   "outputs": [],
   "source": [
    "l=[\"sudh\",123,'adsdaeed']"
   ]
  },
  {
   "cell_type": "code",
   "execution_count": 12,
   "id": "04227b97",
   "metadata": {},
   "outputs": [
    {
     "data": {
      "text/plain": [
       "'sudh'"
      ]
     },
     "execution_count": 12,
     "metadata": {},
     "output_type": "execute_result"
    }
   ],
   "source": [
    "l[0]"
   ]
  },
  {
   "cell_type": "code",
   "execution_count": 13,
   "id": "60a23a4b",
   "metadata": {},
   "outputs": [
    {
     "data": {
      "text/plain": [
       "123"
      ]
     },
     "execution_count": 13,
     "metadata": {},
     "output_type": "execute_result"
    }
   ],
   "source": [
    "l[1]"
   ]
  },
  {
   "cell_type": "code",
   "execution_count": 14,
   "id": "ebe97141",
   "metadata": {},
   "outputs": [
    {
     "data": {
      "text/plain": [
       "'adsdaeed'"
      ]
     },
     "execution_count": 14,
     "metadata": {},
     "output_type": "execute_result"
    }
   ],
   "source": [
    "l[2]"
   ]
  },
  {
   "cell_type": "code",
   "execution_count": 15,
   "id": "96747aa5",
   "metadata": {},
   "outputs": [
    {
     "data": {
      "text/plain": [
       "list"
      ]
     },
     "execution_count": 15,
     "metadata": {},
     "output_type": "execute_result"
    }
   ],
   "source": [
    "type(l)"
   ]
  },
  {
   "cell_type": "code",
   "execution_count": 16,
   "id": "41db1e65",
   "metadata": {},
   "outputs": [
    {
     "data": {
      "text/plain": [
       "[0, 1, 2, 3, 4, 5, 6, 7, 8, 9]"
      ]
     },
     "execution_count": 16,
     "metadata": {},
     "output_type": "execute_result"
    }
   ],
   "source": [
    "list(range(0,10))"
   ]
  },
  {
   "cell_type": "code",
   "execution_count": 17,
   "id": "39b09525",
   "metadata": {},
   "outputs": [
    {
     "data": {
      "text/plain": [
       "range(0, 10)"
      ]
     },
     "execution_count": 17,
     "metadata": {},
     "output_type": "execute_result"
    }
   ],
   "source": [
    "range(0,10)"
   ]
  },
  {
   "cell_type": "code",
   "execution_count": 23,
   "id": "720b80f7",
   "metadata": {},
   "outputs": [],
   "source": [
    "l=[\"aws\",\"123\",\"erffr\",\"frfref\"]"
   ]
  },
  {
   "cell_type": "code",
   "execution_count": 24,
   "id": "054fadc8",
   "metadata": {},
   "outputs": [
    {
     "data": {
      "text/plain": [
       "'123'"
      ]
     },
     "execution_count": 24,
     "metadata": {},
     "output_type": "execute_result"
    }
   ],
   "source": [
    "l[1]"
   ]
  },
  {
   "cell_type": "code",
   "execution_count": 1,
   "id": "abaa49e6",
   "metadata": {},
   "outputs": [
    {
     "data": {
      "text/plain": [
       "list[1, 2, 3, 4]"
      ]
     },
     "execution_count": 1,
     "metadata": {},
     "output_type": "execute_result"
    }
   ],
   "source": [
    "list[1,2,3,4]\n",
    "\n"
   ]
  },
  {
   "cell_type": "code",
   "execution_count": 4,
   "id": "618dd63c",
   "metadata": {},
   "outputs": [
    {
     "data": {
      "text/plain": [
       "'oht'"
      ]
     },
     "execution_count": 4,
     "metadata": {},
     "output_type": "execute_result"
    }
   ],
   "source": [
    "str2 = \"master python\"\n",
    "str2[-2:5:-1]"
   ]
  },
  {
   "cell_type": "code",
   "execution_count": 1,
   "id": "40c6323f",
   "metadata": {},
   "outputs": [
    {
     "name": "stdout",
     "output_type": "stream",
     "text": [
      "[2, 4, 5]\n"
     ]
    }
   ],
   "source": [
    "x=y=[2,4,6]\n",
    "y[2]=5\n",
    "print(x)"
   ]
  },
  {
   "cell_type": "code",
   "execution_count": 9,
   "id": "315dc396",
   "metadata": {},
   "outputs": [],
   "source": [
    "end=\" \""
   ]
  },
  {
   "cell_type": "code",
   "execution_count": 3,
   "id": "5ad1e25e",
   "metadata": {},
   "outputs": [
    {
     "data": {
      "text/plain": [
       "'t'"
      ]
     },
     "execution_count": 3,
     "metadata": {},
     "output_type": "execute_result"
    }
   ],
   "source": [
    "c=\"this is a full stack class\"\n",
    "c[0]"
   ]
  },
  {
   "cell_type": "code",
   "execution_count": 4,
   "id": "28f01f8a",
   "metadata": {},
   "outputs": [
    {
     "data": {
      "text/plain": [
       "'ssalc kcats lluf a si siht'"
      ]
     },
     "execution_count": 4,
     "metadata": {},
     "output_type": "execute_result"
    }
   ],
   "source": [
    "c[::-1]"
   ]
  },
  {
   "cell_type": "code",
   "execution_count": 5,
   "id": "971eead9",
   "metadata": {},
   "outputs": [
    {
     "data": {
      "text/plain": [
       "26"
      ]
     },
     "execution_count": 5,
     "metadata": {},
     "output_type": "execute_result"
    }
   ],
   "source": [
    "len(c)"
   ]
  },
  {
   "cell_type": "code",
   "execution_count": 8,
   "id": "e4b10361",
   "metadata": {},
   "outputs": [
    {
     "data": {
      "text/plain": [
       "' sa'"
      ]
     },
     "execution_count": 8,
     "metadata": {},
     "output_type": "execute_result"
    }
   ],
   "source": [
    "c[4:10:2]"
   ]
  },
  {
   "cell_type": "code",
   "execution_count": 10,
   "id": "7ac58f19",
   "metadata": {},
   "outputs": [
    {
     "data": {
      "text/plain": [
       "'ssalc kca'"
      ]
     },
     "execution_count": 10,
     "metadata": {},
     "output_type": "execute_result"
    }
   ],
   "source": [
    "c[-1:-10:-1]"
   ]
  },
  {
   "cell_type": "code",
   "execution_count": 13,
   "id": "243b751c",
   "metadata": {},
   "outputs": [
    {
     "name": "stdout",
     "output_type": "stream",
     "text": [
      "t\n",
      "s\n",
      "s\n",
      "a\n",
      "l\n",
      "c\n",
      " \n",
      "k\n",
      "c\n",
      "a\n",
      "t\n",
      "s\n",
      " \n",
      "l\n",
      "l\n",
      "u\n",
      "f\n",
      " \n",
      "a\n",
      " \n",
      "s\n",
      "i\n",
      " \n",
      "s\n",
      "i\n",
      "h\n"
     ]
    }
   ],
   "source": [
    "for i in range(len(c)):\n",
    "    print(c[-i])"
   ]
  },
  {
   "cell_type": "code",
   "execution_count": 15,
   "id": "b2eb9e46",
   "metadata": {},
   "outputs": [
    {
     "data": {
      "text/plain": [
       "'sackaslu  ish'"
      ]
     },
     "execution_count": 15,
     "metadata": {},
     "output_type": "execute_result"
    }
   ],
   "source": [
    "c[::-2]"
   ]
  },
  {
   "cell_type": "code",
   "execution_count": 34,
   "id": "c9c124d2",
   "metadata": {},
   "outputs": [
    {
     "name": "stdout",
     "output_type": "stream",
     "text": [
      "3\n",
      "4\n",
      "5\n",
      "6\n"
     ]
    }
   ],
   "source": [
    "s= \"my name is\" \n",
    "b=s.find(\"name\")\n",
    "for i in range(len(\"name\")):\n",
    "    print(b+i)"
   ]
  },
  {
   "cell_type": "code",
   "execution_count": 35,
   "id": "aa0a9016",
   "metadata": {},
   "outputs": [
    {
     "data": {
      "text/plain": [
       "<reversed at 0x2729265fca0>"
      ]
     },
     "execution_count": 35,
     "metadata": {},
     "output_type": "execute_result"
    }
   ],
   "source": [
    "reversed(s)"
   ]
  },
  {
   "cell_type": "code",
   "execution_count": 37,
   "id": "40f3c0ab",
   "metadata": {},
   "outputs": [
    {
     "data": {
      "text/plain": [
       "['s', 'i', ' ', 'e', 'm', 'a', 'n', ' ', 'y', 'm']"
      ]
     },
     "execution_count": 37,
     "metadata": {},
     "output_type": "execute_result"
    }
   ],
   "source": [
    "list(reversed(s))"
   ]
  },
  {
   "cell_type": "code",
   "execution_count": 39,
   "id": "26dc1bc2",
   "metadata": {},
   "outputs": [
    {
     "name": "stdout",
     "output_type": "stream",
     "text": [
      "s\n",
      "i\n",
      " \n",
      "e\n",
      "m\n",
      "a\n",
      "n\n",
      " \n",
      "y\n",
      "m\n"
     ]
    }
   ],
   "source": [
    "for i in reversed(s):\n",
    "                 print(i)"
   ]
  },
  {
   "cell_type": "code",
   "execution_count": 1,
   "id": "81def6fd",
   "metadata": {},
   "outputs": [
    {
     "data": {
      "text/plain": [
       "'sKdh'"
      ]
     },
     "execution_count": 1,
     "metadata": {},
     "output_type": "execute_result"
    }
   ],
   "source": [
    "s=\"sudh\"\n",
    "s.replace(\"u\",\"K\")"
   ]
  },
  {
   "cell_type": "code",
   "execution_count": 9,
   "id": "c4729bf4",
   "metadata": {},
   "outputs": [
    {
     "data": {
      "text/plain": [
       "5"
      ]
     },
     "execution_count": 9,
     "metadata": {},
     "output_type": "execute_result"
    }
   ],
   "source": [
    "a=\" we all are a part of full stack \"\n",
    "a.lower( )\n",
    "c=a.count(\"a\")\n",
    "c"
   ]
  },
  {
   "cell_type": "code",
   "execution_count": 8,
   "id": "98cb61cd",
   "metadata": {},
   "outputs": [],
   "source": [
    "a=\" we all are a part of full stack \"\n",
    "c=a.count(\"\")"
   ]
  },
  {
   "cell_type": "code",
   "execution_count": 12,
   "id": "01c3c954",
   "metadata": {},
   "outputs": [
    {
     "name": "stdout",
     "output_type": "stream",
     "text": [
      "4\n",
      "8\n",
      "12\n",
      "15\n",
      "29\n"
     ]
    }
   ],
   "source": [
    "for i in range(len(a)):\n",
    "    if(a[i]==\"a\"):\n",
    "        print(i)"
   ]
  },
  {
   "cell_type": "code",
   "execution_count": 7,
   "id": "e05a2383",
   "metadata": {},
   "outputs": [],
   "source": [
    "l = [2,3,4,56,7]"
   ]
  },
  {
   "cell_type": "code",
   "execution_count": 8,
   "id": "13ca9c54",
   "metadata": {},
   "outputs": [
    {
     "data": {
      "text/plain": [
       "4"
      ]
     },
     "execution_count": 8,
     "metadata": {},
     "output_type": "execute_result"
    }
   ],
   "source": [
    "l.pop(2)"
   ]
  },
  {
   "cell_type": "code",
   "execution_count": 11,
   "id": "fadbc30b",
   "metadata": {},
   "outputs": [],
   "source": [
    "l = [[1,2,3,4],[\"sudh\",45,\"asdf\"],[\"ineuron\",4534,245]]\n"
   ]
  },
  {
   "cell_type": "code",
   "execution_count": 25,
   "id": "82f6f392",
   "metadata": {},
   "outputs": [],
   "source": [
    "l.append([25,42,36])\n",
    "l.insert(2,[\"sukh\",25,65])\n",
    "l.append(['mijn',25,85])"
   ]
  },
  {
   "cell_type": "code",
   "execution_count": 26,
   "id": "93ee98e0",
   "metadata": {},
   "outputs": [],
   "source": [
    "l.append(65+25j)"
   ]
  },
  {
   "cell_type": "code",
   "execution_count": 27,
   "id": "615f2831",
   "metadata": {},
   "outputs": [
    {
     "data": {
      "text/plain": [
       "[[1, 2, 3, 4],\n",
       " ['sudh', 45, 'asdf'],\n",
       " ['sukh', 25, 65],\n",
       " ['ineuron', 4534, 245],\n",
       " [25, 42, 36],\n",
       " [25, 42, 36],\n",
       " [25, 42, 36],\n",
       " [25, 42, 36],\n",
       " [25, 42, 36],\n",
       " [25, 42, 36],\n",
       " ['sukh', 25, 65],\n",
       " ['mijn', 25, 85],\n",
       " (65+25j),\n",
       " [25, 42, 36],\n",
       " ['mijn', 25, 85],\n",
       " (65+25j)]"
      ]
     },
     "execution_count": 27,
     "metadata": {},
     "output_type": "execute_result"
    }
   ],
   "source": [
    "l"
   ]
  },
  {
   "cell_type": "code",
   "execution_count": 33,
   "id": "937e840b",
   "metadata": {},
   "outputs": [
    {
     "name": "stdout",
     "output_type": "stream",
     "text": [
      "list after removal of string from nested list is\r",
      " [[1, 2, 3, 4], [45], [25, 65], [4534, 245], [25, 42, 36], [25, 42, 36], [25, 42, 36], [25, 42, 36], [25, 42, 36], [25, 42, 36], [25, 65], [25, 85], (65+25j), [25, 42, 36], [25, 85], (65+25j)] \n",
      "\n"
     ]
    }
   ],
   "source": [
    "for i in l:\n",
    "    if type(i) ==list:\n",
    "        j=0\n",
    "        while j< len(i):\n",
    "            if type(i[j]) is str:\n",
    "                print(\"the string in the nestedlist is '{}' \".format(i[j]),j)\n",
    "            j=j+1\n",
    "        j=0\n",
    "        while j<len(i):\n",
    "            if type(i[j]) is str:\n",
    "                print(\"the string in the nested list is'{}'\".format(i[j]))\n",
    "                i.remove(i[j])\n",
    "                continue\n",
    "            j=j+1\n",
    "print(\"list after removal of string from nested list is\\r\",l,'\\n')\n",
    "        \n",
    "    "
   ]
  },
  {
   "cell_type": "markdown",
   "id": "4e71415c",
   "metadata": {},
   "source": [
    "%"
   ]
  },
  {
   "cell_type": "code",
   "execution_count": 7,
   "id": "3d983f23",
   "metadata": {},
   "outputs": [],
   "source": [
    " l=[]\n",
    "for i in range(10):\n",
    "    if i%2 == 0:\n",
    "        l.append(i)\n"
   ]
  },
  {
   "cell_type": "code",
   "execution_count": 8,
   "id": "ab1baa0f",
   "metadata": {},
   "outputs": [
    {
     "data": {
      "text/plain": [
       "[0, 2, 4, 6, 8]"
      ]
     },
     "execution_count": 8,
     "metadata": {},
     "output_type": "execute_result"
    }
   ],
   "source": [
    "[i for i in range(10) if i%2 ==0 ]"
   ]
  },
  {
   "cell_type": "code",
   "execution_count": 10,
   "id": "2fe9d48f",
   "metadata": {},
   "outputs": [
    {
     "data": {
      "text/plain": [
       "['even', 'odd', 'even', 'odd', 'even', 'odd', 'even', 'odd', 'even', 'odd']"
      ]
     },
     "execution_count": 10,
     "metadata": {},
     "output_type": "execute_result"
    }
   ],
   "source": [
    "[\"odd\" if i%2 != 0 else \"even\" for i in range(10)]"
   ]
  },
  {
   "cell_type": "code",
   "execution_count": 3,
   "id": "cf64ff69",
   "metadata": {},
   "outputs": [],
   "source": [
    "def test(x,y=10):\n",
    "    return x+y"
   ]
  },
  {
   "cell_type": "code",
   "execution_count": 5,
   "id": "a9a49aa4",
   "metadata": {},
   "outputs": [
    {
     "data": {
      "text/plain": [
       "10"
      ]
     },
     "execution_count": 5,
     "metadata": {},
     "output_type": "execute_result"
    }
   ],
   "source": [
    "test(2,_)"
   ]
  },
  {
   "cell_type": "code",
   "execution_count": null,
   "id": "bbb430dd",
   "metadata": {},
   "outputs": [],
   "source": []
  }
 ],
 "metadata": {
  "kernelspec": {
   "display_name": "Python 3 (ipykernel)",
   "language": "python",
   "name": "python3"
  },
  "language_info": {
   "codemirror_mode": {
    "name": "ipython",
    "version": 3
   },
   "file_extension": ".py",
   "mimetype": "text/x-python",
   "name": "python",
   "nbconvert_exporter": "python",
   "pygments_lexer": "ipython3",
   "version": "3.9.7"
  }
 },
 "nbformat": 4,
 "nbformat_minor": 5
}
